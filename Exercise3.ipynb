{
  "cells": [
    {
      "cell_type": "markdown",
      "metadata": {
        "id": "view-in-github",
        "colab_type": "text"
      },
      "source": [
        "<a href=\"https://colab.research.google.com/github/flexycode/CCMACLRL_EXERCISES_COM231ML/blob/main/Exercise3.ipynb\" target=\"_parent\"><img src=\"https://colab.research.google.com/assets/colab-badge.svg\" alt=\"Open In Colab\"/></a>"
      ]
    },
    {
      "cell_type": "markdown",
      "source": [
        "# 🤖 Exercise 3\n",
        "\n",
        "Use logistic regression to predict the probability of a passenger surviving.\n",
        "\n",
        "https://www.kaggle.com/competitions/titanic/overview"
      ],
      "metadata": {
        "id": "9GBV1vWvhTOL"
      }
    },
    {
      "cell_type": "markdown",
      "source": [
        "# Step 1: Install and Import Libraries"
      ],
      "metadata": {
        "id": "q-aEY0A_KqBg"
      }
    },
    {
      "cell_type": "code",
      "execution_count": 1,
      "metadata": {
        "id": "R_se3V8gftVL"
      },
      "outputs": [],
      "source": [
        "import pandas as pd\n",
        "import numpy as np\n",
        "import matplotlib.pyplot as plt\n",
        "import seaborn as sns\n",
        "from sklearn.model_selection import train_test_split\n",
        "from sklearn.linear_model import LogisticRegression\n",
        "from sklearn.preprocessing import StandardScaler, LabelEncoder\n",
        "from sklearn.metrics import accuracy_score"
      ]
    },
    {
      "cell_type": "markdown",
      "source": [
        "## Set up plotting style"
      ],
      "metadata": {
        "id": "_Mo4aHnEIAeQ"
      }
    },
    {
      "cell_type": "code",
      "source": [
        "plt.style.use('default')\n",
        "sns.set_palette(\"husl\")\n",
        "\n",
        "print(\"✅ Libraries imported successfully!\")"
      ],
      "metadata": {
        "id": "rDV8XbAzIE33",
        "outputId": "b8654e3f-d6ec-46af-a109-78fa5b4549df",
        "colab": {
          "base_uri": "https://localhost:8080/"
        }
      },
      "execution_count": 9,
      "outputs": [
        {
          "output_type": "stream",
          "name": "stdout",
          "text": [
            "✅ Libraries imported successfully!\n"
          ]
        }
      ]
    },
    {
      "cell_type": "markdown",
      "source": [
        "# Step 2: Load the Data"
      ],
      "metadata": {
        "id": "b9zrdjowKz01"
      }
    },
    {
      "cell_type": "markdown",
      "metadata": {
        "id": "eCNNEXIhftVN"
      },
      "source": [
        "## Dataset File"
      ]
    },
    {
      "cell_type": "code",
      "execution_count": 10,
      "metadata": {
        "id": "-Cqj3uEkftVO",
        "outputId": "d09fb37a-e2e7-4a45-efc3-a6e466c90b01",
        "colab": {
          "base_uri": "https://localhost:8080/"
        }
      },
      "outputs": [
        {
          "output_type": "stream",
          "name": "stdout",
          "text": [
            "\n",
            "📊 Step 2: Loading the data...\n"
          ]
        }
      ],
      "source": [
        "dataset_url = 'https://github.com/robitussin/CCMACLRL_EXERCISES_OLD/blob/f5fdfba1aabbbafcf2fe49ca6e1c8f92f69d1458/datasets/titanic/train.csv?raw=true'\n",
        "df = pd.read_csv(dataset_url)\n",
        "\n",
        "print(\"\\n📊 Step 2: Loading the data...\")"
      ]
    },
    {
      "cell_type": "markdown",
      "source": [
        "## Training Data"
      ],
      "metadata": {
        "id": "9p2GuNu2I5Y3"
      }
    },
    {
      "cell_type": "code",
      "source": [
        "train_url = 'https://github.com/robitussin/CCMACLRL_EXERCISES_OLD/blob/f5fdfba1aabbbafcf2fe49ca6e1c8f92f69d1458/datasets/titanic/train.csv?raw=true'\n",
        "df = pd.read_csv(train_url)"
      ],
      "metadata": {
        "id": "U5iubBtNI8gh"
      },
      "execution_count": 11,
      "outputs": []
    },
    {
      "cell_type": "markdown",
      "metadata": {
        "id": "mLFiGySNftVP"
      },
      "source": [
        "## Test File"
      ]
    },
    {
      "cell_type": "code",
      "execution_count": 12,
      "metadata": {
        "id": "7pKmP53fftVP",
        "outputId": "3adaa64a-d975-4161-c17a-1971f675a3bf",
        "colab": {
          "base_uri": "https://localhost:8080/"
        }
      },
      "outputs": [
        {
          "output_type": "stream",
          "name": "stdout",
          "text": [
            "✅ Training data loaded: (891, 12) rows, 12 columns\n",
            "✅ Test data loaded: (418, 11) rows, 11 columns\n"
          ]
        }
      ],
      "source": [
        "test_url = 'https://github.com/robitussin/CCMACLRL_EXERCISES_OLD/blob/f5fdfba1aabbbafcf2fe49ca6e1c8f92f69d1458/datasets/titanic/test.csv?raw=true'\n",
        "dt = pd.read_csv(test_url)\n",
        "\n",
        "print(f\"✅ Training data loaded: {df.shape} rows, {df.shape[1]} columns\")\n",
        "print(f\"✅ Test data loaded: {dt.shape} rows, {dt.shape[1]} columns\")"
      ]
    },
    {
      "cell_type": "markdown",
      "source": [
        "# Step 3: Explore the Data"
      ],
      "metadata": {
        "id": "Z6bynUMwJc1_"
      }
    },
    {
      "cell_type": "code",
      "source": [
        "print(\"\\n🔍 Step 3: Exploring the data...\")\n",
        "\n",
        "print(\"First 5 rows of training data:\")\n",
        "print(df.head())\n",
        "\n",
        "print(\"\\nBasic information about training data:\")\n",
        "print(df.info())\n",
        "\n",
        "print(\"\\nMissing values in training data:\")\n",
        "print(df.isnull().sum())\n",
        "\n",
        "print(\"\\nSurvival rate:\")\n",
        "print(f\"Overall survival: {df['Survived'].mean():.2%}\")"
      ],
      "metadata": {
        "id": "FqUBGiM5Juxe",
        "outputId": "59849a38-5f90-4f21-f6bd-326234e0acda",
        "colab": {
          "base_uri": "https://localhost:8080/"
        }
      },
      "execution_count": 13,
      "outputs": [
        {
          "output_type": "stream",
          "name": "stdout",
          "text": [
            "\n",
            "🔍 Step 3: Exploring the data...\n",
            "First 5 rows of training data:\n",
            "   PassengerId  Survived  Pclass  \\\n",
            "0            1         0       3   \n",
            "1            2         1       1   \n",
            "2            3         1       3   \n",
            "3            4         1       1   \n",
            "4            5         0       3   \n",
            "\n",
            "                                                Name     Sex   Age  SibSp  \\\n",
            "0                            Braund, Mr. Owen Harris    male  22.0      1   \n",
            "1  Cumings, Mrs. John Bradley (Florence Briggs Th...  female  38.0      1   \n",
            "2                             Heikkinen, Miss. Laina  female  26.0      0   \n",
            "3       Futrelle, Mrs. Jacques Heath (Lily May Peel)  female  35.0      1   \n",
            "4                           Allen, Mr. William Henry    male  35.0      0   \n",
            "\n",
            "   Parch            Ticket     Fare Cabin Embarked  \n",
            "0      0         A/5 21171   7.2500   NaN        S  \n",
            "1      0          PC 17599  71.2833   C85        C  \n",
            "2      0  STON/O2. 3101282   7.9250   NaN        S  \n",
            "3      0            113803  53.1000  C123        S  \n",
            "4      0            373450   8.0500   NaN        S  \n",
            "\n",
            "Basic information about training data:\n",
            "<class 'pandas.core.frame.DataFrame'>\n",
            "RangeIndex: 891 entries, 0 to 890\n",
            "Data columns (total 12 columns):\n",
            " #   Column       Non-Null Count  Dtype  \n",
            "---  ------       --------------  -----  \n",
            " 0   PassengerId  891 non-null    int64  \n",
            " 1   Survived     891 non-null    int64  \n",
            " 2   Pclass       891 non-null    int64  \n",
            " 3   Name         891 non-null    object \n",
            " 4   Sex          891 non-null    object \n",
            " 5   Age          714 non-null    float64\n",
            " 6   SibSp        891 non-null    int64  \n",
            " 7   Parch        891 non-null    int64  \n",
            " 8   Ticket       891 non-null    object \n",
            " 9   Fare         891 non-null    float64\n",
            " 10  Cabin        204 non-null    object \n",
            " 11  Embarked     889 non-null    object \n",
            "dtypes: float64(2), int64(5), object(5)\n",
            "memory usage: 83.7+ KB\n",
            "None\n",
            "\n",
            "Missing values in training data:\n",
            "PassengerId      0\n",
            "Survived         0\n",
            "Pclass           0\n",
            "Name             0\n",
            "Sex              0\n",
            "Age            177\n",
            "SibSp            0\n",
            "Parch            0\n",
            "Ticket           0\n",
            "Fare             0\n",
            "Cabin          687\n",
            "Embarked         2\n",
            "dtype: int64\n",
            "\n",
            "Survival rate:\n",
            "Overall survival: 38.38%\n"
          ]
        }
      ]
    },
    {
      "cell_type": "markdown",
      "source": [
        "## Simple Visualizations"
      ],
      "metadata": {
        "id": "MrKVLw6FKG1L"
      }
    },
    {
      "cell_type": "code",
      "source": [
        "fig, axes = plt.subplots(2, 2, figsize=(15, 10))\n",
        "\n",
        "# Plot 1: Survival by Gender\n",
        "sns.countplot(data=df, x='Sex', hue='Survived', ax=axes[0,0])\n",
        "axes[0,0].set_title('Survival by Gender')\n",
        "\n",
        "# Plot 2: Survival by Class\n",
        "sns.countplot(data=df, x='Pclass', hue='Survived', ax=axes[0,1])\n",
        "axes[0,1].set_title('Survival by Passenger Class')\n",
        "\n",
        "# Plot 3: Survival by Embarkation Port\n",
        "sns.countplot(data=df, x='Embarked', hue='Survived', ax=axes[1,0])\n",
        "axes[1,0].set_title('Survival by Embarkation Port')\n",
        "\n",
        "# Plot 4: Age Distribution\n",
        "sns.histplot(data=df, x='Age', hue='Survived', ax=axes[1,1])\n",
        "axes[1,1].set_title('Age Distribution by Survival')\n",
        "\n",
        "plt.tight_layout()\n",
        "plt.show()"
      ],
      "metadata": {
        "id": "e3LAFPzBKR3N",
        "outputId": "82089e05-c04e-46ee-9604-accf72db20dc",
        "colab": {
          "base_uri": "https://localhost:8080/",
          "height": 427
        }
      },
      "execution_count": 14,
      "outputs": [
        {
          "output_type": "display_data",
          "data": {
            "text/plain": [
              "<Figure size 1500x1000 with 4 Axes>"
            ],
            "image/png": "[encoded data removed]"
          },
          "metadata": {}
        }
      ]
    },
    {
      "cell_type": "markdown",
      "source": [
        "# Step 4: Data Cleaning and Feature Engineering"
      ],
      "metadata": {
        "id": "SmTY-saCK_6R"
      }
    },
    {
      "cell_type": "code",
      "source": [
        "print(\"\\n🧹 Step 4: Cleaning data and creating new features...\")\n",
        "\n",
        "# Create copies to avoid modifying original data\n",
        "train_data = df.copy()\n",
        "test_data = dt.copy()\n"
      ],
      "metadata": {
        "id": "BGQLXIOxLIDP",
        "outputId": "3afe22e1-a257-4f57-a0fd-66bdd51d3661",
        "colab": {
          "base_uri": "https://localhost:8080/"
        }
      },
      "execution_count": 21,
      "outputs": [
        {
          "output_type": "stream",
          "name": "stdout",
          "text": [
            "\n",
            "🧹 Step 4: Cleaning data and creating new features...\n"
          ]
        }
      ]
    },
    {
      "cell_type": "markdown",
      "source": [
        "## Fill missing values"
      ],
      "metadata": {
        "id": "3eSDUslSMAMe"
      }
    },
    {
      "cell_type": "code",
      "source": [
        "print(\"Filling missing values...\")\n"
      ],
      "metadata": {
        "id": "0jPRfX9wLuYX",
        "outputId": "b99c2528-f5ff-438c-e3c3-fdbe61b3979f",
        "colab": {
          "base_uri": "https://localhost:8080/"
        }
      },
      "execution_count": 25,
      "outputs": [
        {
          "output_type": "stream",
          "name": "stdout",
          "text": [
            "Filling missing values...\n"
          ]
        }
      ]
    },
    {
      "cell_type": "markdown",
      "source": [
        "### Age - fill with media\n",
        "\n",
        "\n",
        "\n"
      ],
      "metadata": {
        "id": "n8w3xakRMQfG"
      }
    },
    {
      "cell_type": "code",
      "source": [
        "train_data['Age'].fillna(train_data['Age'].median(), inplace=True)\n",
        "test_data['Age'].fillna(test_data['Age'].median(), inplace=True)"
      ],
      "metadata": {
        "id": "qOSVLSn-MHdP",
        "outputId": "d11bbe89-9e16-4a38-9bdf-0551368abac3",
        "colab": {
          "base_uri": "https://localhost:8080/"
        }
      },
      "execution_count": 28,
      "outputs": [
        {
          "output_type": "stream",
          "name": "stderr",
          "text": [
            "/tmp/ipython-input-68677200.py:1: FutureWarning: A value is trying to be set on a copy of a DataFrame or Series through chained assignment using an inplace method.\n",
            "The behavior will change in pandas 3.0. This inplace method will never work because the intermediate object on which we are setting values always behaves as a copy.\n",
            "\n",
            "For example, when doing 'df[col].method(value, inplace=True)', try using 'df.method({col: value}, inplace=True)' or df[col] = df[col].method(value) instead, to perform the operation inplace on the original object.\n",
            "\n",
            "\n",
            "  train_data['Age'].fillna(train_data['Age'].median(), inplace=True)\n",
            "/tmp/ipython-input-68677200.py:2: FutureWarning: A value is trying to be set on a copy of a DataFrame or Series through chained assignment using an inplace method.\n",
            "The behavior will change in pandas 3.0. This inplace method will never work because the intermediate object on which we are setting values always behaves as a copy.\n",
            "\n",
            "For example, when doing 'df[col].method(value, inplace=True)', try using 'df.method({col: value}, inplace=True)' or df[col] = df[col].method(value) instead, to perform the operation inplace on the original object.\n",
            "\n",
            "\n",
            "  test_data['Age'].fillna(test_data['Age'].median(), inplace=True)\n"
          ]
        }
      ]
    },
    {
      "cell_type": "markdown",
      "source": [
        "### Embarked - fill with most common value"
      ],
      "metadata": {
        "id": "RFzmJNTWMUOe"
      }
    },
    {
      "cell_type": "code",
      "source": [
        "train_data['Embarked'].fillna(train_data['Embarked'].mode()[0], inplace=True)\n",
        "test_data['Embarked'].fillna(test_data['Embarked'].mode()[0], inplace=True)"
      ],
      "metadata": {
        "id": "NGhlhCJnMXNL",
        "outputId": "cca81a1b-a4c9-4836-ad68-3c5362a8a538",
        "colab": {
          "base_uri": "https://localhost:8080/"
        }
      },
      "execution_count": 27,
      "outputs": [
        {
          "output_type": "stream",
          "name": "stderr",
          "text": [
            "/tmp/ipython-input-3451707845.py:1: FutureWarning: A value is trying to be set on a copy of a DataFrame or Series through chained assignment using an inplace method.\n",
            "The behavior will change in pandas 3.0. This inplace method will never work because the intermediate object on which we are setting values always behaves as a copy.\n",
            "\n",
            "For example, when doing 'df[col].method(value, inplace=True)', try using 'df.method({col: value}, inplace=True)' or df[col] = df[col].method(value) instead, to perform the operation inplace on the original object.\n",
            "\n",
            "\n",
            "  train_data['Embarked'].fillna(train_data['Embarked'].mode()[0], inplace=True)\n",
            "/tmp/ipython-input-3451707845.py:2: FutureWarning: A value is trying to be set on a copy of a DataFrame or Series through chained assignment using an inplace method.\n",
            "The behavior will change in pandas 3.0. This inplace method will never work because the intermediate object on which we are setting values always behaves as a copy.\n",
            "\n",
            "For example, when doing 'df[col].method(value, inplace=True)', try using 'df.method({col: value}, inplace=True)' or df[col] = df[col].method(value) instead, to perform the operation inplace on the original object.\n",
            "\n",
            "\n",
            "  test_data['Embarked'].fillna(test_data['Embarked'].mode()[0], inplace=True)\n"
          ]
        }
      ]
    },
    {
      "cell_type": "markdown",
      "source": [
        "### Fare - fill with median"
      ],
      "metadata": {
        "id": "m2sZyd8XMeis"
      }
    },
    {
      "cell_type": "code",
      "source": [
        "test_data['Fare'].fillna(test_data['Fare'].median(), inplace=True)"
      ],
      "metadata": {
        "id": "JW-IFR3FMr3T",
        "outputId": "aac75030-848d-46f3-fb10-853494f93673",
        "colab": {
          "base_uri": "https://localhost:8080/"
        }
      },
      "execution_count": 29,
      "outputs": [
        {
          "output_type": "stream",
          "name": "stderr",
          "text": [
            "/tmp/ipython-input-2536658624.py:1: FutureWarning: A value is trying to be set on a copy of a DataFrame or Series through chained assignment using an inplace method.\n",
            "The behavior will change in pandas 3.0. This inplace method will never work because the intermediate object on which we are setting values always behaves as a copy.\n",
            "\n",
            "For example, when doing 'df[col].method(value, inplace=True)', try using 'df.method({col: value}, inplace=True)' or df[col] = df[col].method(value) instead, to perform the operation inplace on the original object.\n",
            "\n",
            "\n",
            "  test_data['Fare'].fillna(test_data['Fare'].median(), inplace=True)\n"
          ]
        }
      ]
    },
    {
      "cell_type": "markdown",
      "source": [
        "## Create new features"
      ],
      "metadata": {
        "id": "d2dV7Q6CMywZ"
      }
    },
    {
      "cell_type": "code",
      "source": [
        "print(\"Creating new features...\")\n",
        "\n",
        "# Family size\n",
        "train_data['FamilySize'] = train_data['SibSp'] + train_data['Parch'] + 1\n",
        "test_data['FamilySize'] = test_data['SibSp'] + test_data['Parch'] + 1\n",
        "\n",
        "# Is alone\n",
        "train_data['IsAlone'] = (train_data['FamilySize'] == 1).astype(int)\n",
        "test_data['IsAlone'] = (test_data['FamilySize'] == 1).astype(int)\n",
        "\n",
        "# Title from name\n",
        "train_data['Title'] = train_data['Name'].str.extract(' ([A-Za-z]+)\\\\.', expand=False)\n",
        "test_data['Title'] = test_data['Name'].str.extract(' ([A-Za-z]+)\\\\.', expand=False)\n",
        "\n",
        "# Simplify titles\n",
        "common_titles = ['Mr', 'Miss', 'Mrs', 'Master']\n",
        "train_data['Title'] = train_data['Title'].apply(lambda x: x if x in common_titles else 'Rare')\n",
        "test_data['Title'] = test_data['Title'].apply(lambda x: x if x in common_titles else 'Rare')\n",
        "\n",
        "print(\"✅ Data cleaning and feature engineering completed!\")"
      ],
      "metadata": {
        "id": "MZJ3WHXaM2TX",
        "outputId": "35f3c4f1-4f96-4333-e3ea-2e3d3e263ee2",
        "colab": {
          "base_uri": "https://localhost:8080/"
        }
      },
      "execution_count": 30,
      "outputs": [
        {
          "output_type": "stream",
          "name": "stdout",
          "text": [
            "Creating new features...\n",
            "✅ Data cleaning and feature engineering completed!\n"
          ]
        }
      ]
    },
    {
      "cell_type": "markdown",
      "source": [
        "# Step 5: Prepare Data for Modeling"
      ],
      "metadata": {
        "id": "FTKgtsgBM6MS"
      }
    },
    {
      "cell_type": "code",
      "source": [
        "print(\"\\n🎯 Step 5: Preparing data for modeling...\")\n",
        "\n",
        "# Select features to use\n",
        "features = ['Pclass', 'Sex', 'Age', 'SibSp', 'Parch', 'Fare', 'Embarked', 'FamilySize', 'IsAlone', 'Title']\n",
        "\n",
        "# Prepare training data\n",
        "X = train_data[features]\n",
        "y = train_data['Survived']\n",
        "\n",
        "# Prepare test data\n",
        "X_test = test_data[features]\n",
        "\n",
        "print(f\"Training features: {X.shape}\")\n",
        "print(f\"Test features: {X_test.shape}\")\n",
        "\n",
        "# Encode categorical variables\n",
        "print(\"Encoding categorical variables...\")\n",
        "\n",
        "categorical_cols = ['Sex', 'Embarked', 'Title']\n",
        "\n",
        "# Create label encoders\n",
        "label_encoders = {}\n",
        "\n",
        "for col in categorical_cols:\n",
        "    le = LabelEncoder()\n",
        "    # Fit on training data\n",
        "    X[col] = le.fit_transform(X[col].astype(str))\n",
        "    # Transform test data (using same encoder)\n",
        "    X_test[col] = le.transform(X_test[col].astype(str))\n",
        "    label_encoders[col] = le\n",
        "\n",
        "print(\"✅ Data preparation completed!\")"
      ],
      "metadata": {
        "id": "aBjQxJ4AM-Cc",
        "outputId": "f64ae6ad-0cff-4a35-8c5b-8e2bb491146f",
        "colab": {
          "base_uri": "https://localhost:8080/"
        }
      },
      "execution_count": 32,
      "outputs": [
        {
          "output_type": "stream",
          "name": "stdout",
          "text": [
            "\n",
            "🎯 Step 5: Preparing data for modeling...\n",
            "Training features: (891, 10)\n",
            "Test features: (418, 10)\n",
            "Encoding categorical variables...\n",
            "✅ Data preparation completed!\n"
          ]
        },
        {
          "output_type": "stream",
          "name": "stderr",
          "text": [
            "/tmp/ipython-input-3271013347.py:27: SettingWithCopyWarning: \n",
            "A value is trying to be set on a copy of a slice from a DataFrame.\n",
            "Try using .loc[row_indexer,col_indexer] = value instead\n",
            "\n",
            "See the caveats in the documentation: https://pandas.pydata.org/pandas-docs/stable/user_guide/indexing.html#returning-a-view-versus-a-copy\n",
            "  X[col] = le.fit_transform(X[col].astype(str))\n",
            "/tmp/ipython-input-3271013347.py:29: SettingWithCopyWarning: \n",
            "A value is trying to be set on a copy of a slice from a DataFrame.\n",
            "Try using .loc[row_indexer,col_indexer] = value instead\n",
            "\n",
            "See the caveats in the documentation: https://pandas.pydata.org/pandas-docs/stable/user_guide/indexing.html#returning-a-view-versus-a-copy\n",
            "  X_test[col] = le.transform(X_test[col].astype(str))\n",
            "/tmp/ipython-input-3271013347.py:27: SettingWithCopyWarning: \n",
            "A value is trying to be set on a copy of a slice from a DataFrame.\n",
            "Try using .loc[row_indexer,col_indexer] = value instead\n",
            "\n",
            "See the caveats in the documentation: https://pandas.pydata.org/pandas-docs/stable/user_guide/indexing.html#returning-a-view-versus-a-copy\n",
            "  X[col] = le.fit_transform(X[col].astype(str))\n",
            "/tmp/ipython-input-3271013347.py:29: SettingWithCopyWarning: \n",
            "A value is trying to be set on a copy of a slice from a DataFrame.\n",
            "Try using .loc[row_indexer,col_indexer] = value instead\n",
            "\n",
            "See the caveats in the documentation: https://pandas.pydata.org/pandas-docs/stable/user_guide/indexing.html#returning-a-view-versus-a-copy\n",
            "  X_test[col] = le.transform(X_test[col].astype(str))\n",
            "/tmp/ipython-input-3271013347.py:27: SettingWithCopyWarning: \n",
            "A value is trying to be set on a copy of a slice from a DataFrame.\n",
            "Try using .loc[row_indexer,col_indexer] = value instead\n",
            "\n",
            "See the caveats in the documentation: https://pandas.pydata.org/pandas-docs/stable/user_guide/indexing.html#returning-a-view-versus-a-copy\n",
            "  X[col] = le.fit_transform(X[col].astype(str))\n",
            "/tmp/ipython-input-3271013347.py:29: SettingWithCopyWarning: \n",
            "A value is trying to be set on a copy of a slice from a DataFrame.\n",
            "Try using .loc[row_indexer,col_indexer] = value instead\n",
            "\n",
            "See the caveats in the documentation: https://pandas.pydata.org/pandas-docs/stable/user_guide/indexing.html#returning-a-view-versus-a-copy\n",
            "  X_test[col] = le.transform(X_test[col].astype(str))\n"
          ]
        }
      ]
    },
    {
      "cell_type": "markdown",
      "source": [
        "# Step 6: Split Data and Scale Features"
      ],
      "metadata": {
        "id": "GPTGosupNTU7"
      }
    },
    {
      "cell_type": "code",
      "source": [
        "print(\"\\n⚖️ Step 6: Splitting data and scaling features...\")\n",
        "\n",
        "# Split training data for validation\n",
        "X_train, X_val, y_train, y_val = train_test_split(X, y, test_size=0.2, random_state=42, stratify=y)\n",
        "\n",
        "print(f\"Training set: {X_train.shape}\")\n",
        "print(f\"Validation set: {X_val.shape}\")\n",
        "\n",
        "# Scale the features\n",
        "scaler = StandardScaler()\n",
        "X_train_scaled = scaler.fit_transform(X_train)\n",
        "X_val_scaled = scaler.transform(X_val)\n",
        "X_test_scaled = scaler.transform(X_test)\n",
        "\n",
        "print(\"✅ Data scaling completed!\")\n"
      ],
      "metadata": {
        "id": "YLCwbL7VNZMh",
        "outputId": "c4f64e5a-caf7-457d-d46a-990de298f068",
        "colab": {
          "base_uri": "https://localhost:8080/"
        }
      },
      "execution_count": 33,
      "outputs": [
        {
          "output_type": "stream",
          "name": "stdout",
          "text": [
            "\n",
            "⚖️ Step 6: Splitting data and scaling features...\n",
            "Training set: (712, 10)\n",
            "Validation set: (179, 10)\n",
            "✅ Data scaling completed!\n"
          ]
        }
      ]
    },
    {
      "cell_type": "markdown",
      "source": [
        "# Step 7: Train the Logistic Regression Model"
      ],
      "metadata": {
        "id": "4DexM9RaNa7j"
      }
    },
    {
      "cell_type": "code",
      "source": [
        "print(\"\\n🤖 Step 7: Training the logistic regression model...\")\n",
        "\n",
        "# Create and train model\n",
        "model = LogisticRegression(random_state=42, max_iter=1000)\n",
        "model.fit(X_train_scaled, y_train)\n",
        "\n",
        "print(\"✅ Model training completed!\")"
      ],
      "metadata": {
        "id": "3hHa0OSgNfEb",
        "outputId": "c672afb1-37f7-4b38-d96c-b819f63e4393",
        "colab": {
          "base_uri": "https://localhost:8080/"
        }
      },
      "execution_count": 34,
      "outputs": [
        {
          "output_type": "stream",
          "name": "stdout",
          "text": [
            "\n",
            "🤖 Step 7: Training the logistic regression model...\n",
            "✅ Model training completed!\n"
          ]
        }
      ]
    },
    {
      "cell_type": "markdown",
      "source": [
        "# Step 8: Evaluate the Model"
      ],
      "metadata": {
        "id": "rKB0MGn3Nm_x"
      }
    },
    {
      "cell_type": "code",
      "source": [
        "print(\"\\n📊 Step 8: Evaluating the model...\")\n",
        "\n",
        "# Make predictions on validation set\n",
        "y_val_pred = model.predict(X_val_scaled)\n",
        "val_accuracy = accuracy_score(y_val, y_val_pred)\n",
        "\n",
        "print(f\"Validation Accuracy: {val_accuracy:.4f} ({val_accuracy:.2%})\")"
      ],
      "metadata": {
        "id": "qFLRWdVHNqBa",
        "outputId": "a5dcf934-c968-415d-c03a-5fa5e008f73a",
        "colab": {
          "base_uri": "https://localhost:8080/"
        }
      },
      "execution_count": 35,
      "outputs": [
        {
          "output_type": "stream",
          "name": "stdout",
          "text": [
            "\n",
            "📊 Step 8: Evaluating the model...\n",
            "Validation Accuracy: 0.8101 (81.01%)\n"
          ]
        }
      ]
    },
    {
      "cell_type": "markdown",
      "source": [
        "## Show feature importance"
      ],
      "metadata": {
        "id": "ahNbF1wFNr72"
      }
    },
    {
      "cell_type": "code",
      "source": [
        "feature_importance = pd.DataFrame({\n",
        "    'Feature': features,\n",
        "    'Importance': abs(model.coef_[0])\n",
        "}).sort_values('Importance', ascending=False)\n",
        "\n",
        "print(\"\\nFeature Importance:\")\n",
        "print(feature_importance)\n",
        "\n",
        "# Plot feature importance\n",
        "plt.figure(figsize=(10, 6))\n",
        "sns.barplot(data=feature_importance, x='Importance', y='Feature')\n",
        "plt.title('Feature Importance in Predicting Survival')\n",
        "plt.tight_layout()\n",
        "plt.show()"
      ],
      "metadata": {
        "id": "60SndSMSNv8f",
        "outputId": "154b38d8-4315-4c5b-be52-61dace5cae2d",
        "colab": {
          "base_uri": "https://localhost:8080/",
          "height": 611
        }
      },
      "execution_count": 36,
      "outputs": [
        {
          "output_type": "stream",
          "name": "stdout",
          "text": [
            "\n",
            "Feature Importance:\n",
            "      Feature  Importance\n",
            "1         Sex    1.252101\n",
            "0      Pclass    0.858324\n",
            "2         Age    0.412191\n",
            "8     IsAlone    0.317549\n",
            "3       SibSp    0.301260\n",
            "7  FamilySize    0.234061\n",
            "6    Embarked    0.157205\n",
            "9       Title    0.128270\n",
            "5        Fare    0.071719\n",
            "4       Parch    0.062496\n"
          ]
        },
        {
          "output_type": "display_data",
          "data": {
            "text/plain": [
              "<Figure size 1000x600 with 1 Axes>"
            ],
            "image/png": "[encoded data removed]"
          },
          "metadata": {}
        }
      ]
    },
    {
      "cell_type": "markdown",
      "source": [
        "# Step 9: Make Final Predictions"
      ],
      "metadata": {
        "id": "GLRJyR3zN0MN"
      }
    },
    {
      "cell_type": "code",
      "source": [
        "print(\"\\n🎯 Step 9: Making final predictions on test data...\")\n",
        "\n",
        "# Train final model on all training data\n",
        "final_model = LogisticRegression(random_state=42, max_iter=1000)\n",
        "final_model.fit(scaler.transform(X), y)\n",
        "\n",
        "# Predict on test data\n",
        "test_predictions = final_model.predict(X_test_scaled)\n",
        "\n",
        "print(f\"Number of survivors predicted: {test_predictions.sum()} out of {len(test_predictions)}\")\n",
        "print(f\"Survival rate in predictions: {test_predictions.mean():.2%}\")"
      ],
      "metadata": {
        "id": "o06hmUjHN4F4",
        "outputId": "8e21ae53-ade7-492a-c304-04bb66d0a2b0",
        "colab": {
          "base_uri": "https://localhost:8080/"
        }
      },
      "execution_count": 37,
      "outputs": [
        {
          "output_type": "stream",
          "name": "stdout",
          "text": [
            "\n",
            "🎯 Step 9: Making final predictions on test data...\n",
            "Number of survivors predicted: 158 out of 418\n",
            "Survival rate in predictions: 37.80%\n"
          ]
        }
      ]
    },
    {
      "cell_type": "markdown",
      "source": [
        "# Step 10: Create Submission File"
      ],
      "metadata": {
        "id": "xlSG3sM_OlSb"
      }
    },
    {
      "cell_type": "code",
      "source": [
        "print(\"\\n💾 Step 10: Creating submission file...\")\n",
        "\n",
        "# Create submission dataframe\n",
        "submission_df = pd.DataFrame({\n",
        "    'PassengerId': dt['PassengerId'],\n",
        "    'Survived': test_predictions\n",
        "})"
      ],
      "metadata": {
        "id": "Slq6vFdcPEIg",
        "outputId": "b6f77e17-8492-4bbe-dec8-7d3d5d9e5822",
        "colab": {
          "base_uri": "https://localhost:8080/"
        }
      },
      "execution_count": 38,
      "outputs": [
        {
          "output_type": "stream",
          "name": "stdout",
          "text": [
            "\n",
            "💾 Step 10: Creating submission file...\n"
          ]
        }
      ]
    },
    {
      "cell_type": "markdown",
      "source": [
        "## Generate Results and Save to CSV"
      ],
      "metadata": {
        "id": "GzGd6G7BPUB9"
      }
    },
    {
      "cell_type": "code",
      "source": [
        "submission_df.to_csv('submission_file.csv', index=False)\n",
        "\n",
        "print(\"✅ Submission file created: 'submission_file.csv'\")\n",
        "print(\"\\nFirst 10 predictions:\")\n",
        "print(submission_df.head(10))\n",
        "\n",
        "print(f\"\\n📈 Final Results Summary:\")\n",
        "print(f\"- Training data: {df.shape[0]} passengers\")\n",
        "print(f\"- Test data: {dt.shape[0]} passengers\")\n",
        "print(f\"- Validation accuracy: {val_accuracy:.2%}\")\n",
        "print(f\"- Predicted survivors: {test_predictions.sum()}\")\n",
        "print(f\"- Predicted survival rate: {test_predictions.mean():.2%}\")\n",
        "\n",
        "\n",
        "# Save the submission DataFrame to a CSV file\n",
        "submission_df.to_csv('submission_file.csv', index=False)\n",
        "print(\"Submission file created: submission_file.csv\")"
      ],
      "metadata": {
        "id": "TFhbXFzmPbWu",
        "outputId": "7815faca-1c19-440a-8f37-f9cb5475f34b",
        "colab": {
          "base_uri": "https://localhost:8080/"
        }
      },
      "execution_count": 48,
      "outputs": [
        {
          "output_type": "stream",
          "name": "stdout",
          "text": [
            "✅ Submission file created: 'submission_file.csv'\n",
            "\n",
            "First 10 predictions:\n",
            "   PassengerId  Survived\n",
            "0          892         0\n",
            "1          893         0\n",
            "2          894         0\n",
            "3          895         0\n",
            "4          896         1\n",
            "5          897         0\n",
            "6          898         1\n",
            "7          899         0\n",
            "8          900         1\n",
            "9          901         0\n",
            "\n",
            "📈 Final Results Summary:\n",
            "- Training data: 891 passengers\n",
            "- Test data: 418 passengers\n",
            "- Validation accuracy: 81.01%\n",
            "- Predicted survivors: 158\n",
            "- Predicted survival rate: 37.80%\n",
            "Submission file created: submission_file.csv\n"
          ]
        }
      ]
    },
    {
      "cell_type": "markdown",
      "metadata": {
        "id": "ntGpbsBg8hft"
      },
      "source": [
        "## Sample Submission File"
      ]
    },
    {
      "cell_type": "code",
      "execution_count": 43,
      "metadata": {
        "id": "-5Dwtw_w3U8W"
      },
      "outputs": [],
      "source": [
        "sample_submission_url ='https://github.com/robitussin/CCMACLRL_EXERCISES_OLD/blob/f5fdfba1aabbbafcf2fe49ca6e1c8f92f69d1458/datasets/titanic/gender_submission.csv?raw=true'\n",
        "\n",
        "sf=pd.read_csv(sample_submission_url)"
      ]
    },
    {
      "cell_type": "code",
      "source": [
        "sf.info()"
      ],
      "metadata": {
        "colab": {
          "base_uri": "https://localhost:8080/"
        },
        "id": "K1_62qZBqLjV",
        "outputId": "2a5c40b2-5914-4544-c80a-aa5fef7f289a"
      },
      "execution_count": 41,
      "outputs": [
        {
          "output_type": "stream",
          "name": "stdout",
          "text": [
            "<class 'pandas.core.frame.DataFrame'>\n",
            "RangeIndex: 418 entries, 0 to 417\n",
            "Data columns (total 1 columns):\n",
            " #   Column    Non-Null Count  Dtype\n",
            "---  ------    --------------  -----\n",
            " 0   Survived  418 non-null    int64\n",
            "dtypes: int64(1)\n",
            "memory usage: 3.4 KB\n"
          ]
        }
      ]
    },
    {
      "cell_type": "markdown",
      "source": [
        "## Bonus : See Probabilities"
      ],
      "metadata": {
        "id": "goagLFlNRsjn"
      }
    },
    {
      "cell_type": "code",
      "source": [
        "test_probabilities = final_model.predict_proba(X_test_scaled)\n",
        "\n",
        "print(\"🔮 Survival probabilities for first 10 passengers:\")\n",
        "for i in range(10):\n",
        "    prob = test_probabilities[i][1]\n",
        "    pred = test_predictions[i]\n",
        "    print(f\"Passenger {i+1}: {prob:.1%} → {'SURVIVED' if pred == 1 else 'DIED'}\")"
      ],
      "metadata": {
        "id": "pCJ9wC0cR__H",
        "outputId": "373780ec-f3b9-4120-f259-61d61e381a00",
        "colab": {
          "base_uri": "https://localhost:8080/"
        }
      },
      "execution_count": 49,
      "outputs": [
        {
          "output_type": "stream",
          "name": "stdout",
          "text": [
            "🔮 Survival probabilities for first 10 passengers:\n",
            "Passenger 1: 8.7% → DIED\n",
            "Passenger 2: 43.5% → DIED\n",
            "Passenger 3: 10.4% → DIED\n",
            "Passenger 4: 9.1% → DIED\n",
            "Passenger 5: 56.3% → SURVIVED\n",
            "Passenger 6: 13.0% → DIED\n",
            "Passenger 7: 65.9% → SURVIVED\n",
            "Passenger 8: 23.1% → DIED\n",
            "Passenger 9: 66.9% → SURVIVED\n",
            "Passenger 10: 8.4% → DIED\n"
          ]
        }
      ]
    }
  ],
  "metadata": {
    "colab": {
      "provenance": [],
      "include_colab_link": true
    },
    "kernelspec": {
      "display_name": "Python 3",
      "name": "python3"
    },
    "language_info": {
      "name": "python",
      "version": "3.12.4"
    }
  },
  "nbformat": 4,
  "nbformat_minor": 0
}