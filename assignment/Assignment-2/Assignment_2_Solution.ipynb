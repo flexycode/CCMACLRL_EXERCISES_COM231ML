{
  "nbformat": 4,
  "nbformat_minor": 0,
  "metadata": {
    "colab": {
      "provenance": []
    },
    "kernelspec": {
      "name": "python3",
      "display_name": "Python 3"
    },
    "language_info": {
      "name": "python"
    }
  },
  "cells": [
    {
      "cell_type": "markdown",
      "source": [
        "# 📓 Assignment 2: Linear Regression: Predicting Exam Scores\n",
        "\n",
        "This notebook solves the linear regression problem to predict exam scores based on hours studied."
      ],
      "metadata": {
        "id": "UkO-yllTmuS6"
      }
    },
    {
      "cell_type": "markdown",
      "source": [
        "## Problem Task\n",
        "We want to fit a linear regression line of the form:\n",
        "\n",
        "$$\n",
        "y = mx + b\n",
        "$$\n",
        "\n",
        "A new student studied **6 hours**. We want to predict the **Exam Score** using the regression equation."
      ],
      "metadata": {
        "id": "_BGVx-2SnI9b"
      }
    },
    {
      "cell_type": "markdown",
      "source": [
        "## Import Library"
      ],
      "metadata": {
        "id": "1T4VtC9Mndgp"
      }
    },
    {
      "cell_type": "code",
      "execution_count": 1,
      "metadata": {
        "colab": {
          "base_uri": "https://localhost:8080/"
        },
        "id": "6Dp6QHy3mdsc",
        "outputId": "e864c0d7-a069-457e-bf3d-fdfa033e071f"
      },
      "outputs": [
        {
          "output_type": "stream",
          "name": "stdout",
          "text": [
            "✅ Libraries imported successfully!\n"
          ]
        }
      ],
      "source": [
        "import numpy as np\n",
        "import pandas as pd\n",
        "import matplotlib.pyplot as plt\n",
        "\n",
        "print(\"✅ Libraries imported successfully!\")"
      ]
    },
    {
      "cell_type": "markdown",
      "source": [
        "# 1. Data Preparation and Table Completion\n",
        "\n",
        "## Given data\n"
      ],
      "metadata": {
        "id": "LSX8vRIDnqh6"
      }
    },
    {
      "cell_type": "code",
      "source": [
        "data = {\n",
        "    'Student': [1, 2, 3, 4, 5],\n",
        "    'Hours_Studied': [1, 2, 3, 4, 5],\n",
        "    'Exam_Score': [52, 57, 61, 65, 70]\n",
        "}\n",
        "\n",
        "df = pd.DataFrame(data)"
      ],
      "metadata": {
        "id": "ZgPr9Sjxn3Oa"
      },
      "execution_count": 3,
      "outputs": []
    },
    {
      "cell_type": "markdown",
      "source": [
        "## Calculate required columns"
      ],
      "metadata": {
        "id": "x5xy54Pun_VC"
      }
    },
    {
      "cell_type": "code",
      "source": [
        "df['x_squared'] = df['Hours_Studied'] ** 2\n",
        "df['x_y'] = df['Hours_Studied'] * df['Exam_Score']"
      ],
      "metadata": {
        "id": "UM4jOvUHoCik"
      },
      "execution_count": 4,
      "outputs": []
    },
    {
      "cell_type": "markdown",
      "source": [
        "## Calculate sums"
      ],
      "metadata": {
        "id": "jAv3kFi3oJdS"
      }
    },
    {
      "cell_type": "code",
      "source": [
        "sum_x = df['Hours_Studied'].sum()\n",
        "sum_y = df['Exam_Score'].sum()\n",
        "sum_x_squared = df['x_squared'].sum()\n",
        "sum_x_y = df['x_y'].sum()\n",
        "n = len(df)\n",
        "\n",
        "print(\"Completed Table:\")\n",
        "print(df)\n",
        "print(f\"\\nΣx = {sum_x}\")\n",
        "print(f\"Σy = {sum_y}\")\n",
        "print(f\"Σx² = {sum_x_squared}\")\n",
        "print(f\"Σxy = {sum_x_y}\")\n",
        "print(f\"n = {n}\")"
      ],
      "metadata": {
        "colab": {
          "base_uri": "https://localhost:8080/"
        },
        "id": "engGFDiToNaD",
        "outputId": "ef8ae5a0-4be4-4fbc-d847-bc21e8a05e88"
      },
      "execution_count": 5,
      "outputs": [
        {
          "output_type": "stream",
          "name": "stdout",
          "text": [
            "Completed Table:\n",
            "   Student  Hours_Studied  Exam_Score  x_squared  x_y\n",
            "0        1              1          52          1   52\n",
            "1        2              2          57          4  114\n",
            "2        3              3          61          9  183\n",
            "3        4              4          65         16  260\n",
            "4        5              5          70         25  350\n",
            "\n",
            "Σx = 15\n",
            "Σy = 305\n",
            "Σx² = 55\n",
            "Σxy = 959\n",
            "n = 5\n"
          ]
        }
      ]
    },
    {
      "cell_type": "markdown",
      "source": [
        "# 2. Compute the Slope (m)"
      ],
      "metadata": {
        "id": "5frefGnsobEA"
      }
    },
    {
      "cell_type": "markdown",
      "source": [
        "## Calculate slope m"
      ],
      "metadata": {
        "id": "7vkNJAwsogwI"
      }
    },
    {
      "cell_type": "code",
      "source": [
        "numerator_m = n * sum_x_y - sum_x * sum_y\n",
        "denominator_m = n * sum_x_squared - sum_x ** 2\n",
        "m = numerator_m / denominator_m\n",
        "\n",
        "print(f\"m = [{n} × {sum_x_y}] - [{sum_x} × {sum_y}] / [{n} × {sum_x_squared}] - [{sum_x}²]\")\n",
        "print(f\"m = [{numerator_m}] / [{denominator_m}]\")\n",
        "print(f\"m = {m:.2f}\")"
      ],
      "metadata": {
        "colab": {
          "base_uri": "https://localhost:8080/"
        },
        "id": "gF88nYMeoky7",
        "outputId": "85d2b226-2ab5-408a-cbe2-e7e9cd7c62d8"
      },
      "execution_count": 6,
      "outputs": [
        {
          "output_type": "stream",
          "name": "stdout",
          "text": [
            "m = [5 × 959] - [15 × 305] / [5 × 55] - [15²]\n",
            "m = [220] / [50]\n",
            "m = 4.40\n"
          ]
        }
      ]
    },
    {
      "cell_type": "markdown",
      "source": [
        "# 3. Compute the Intercept (b)"
      ],
      "metadata": {
        "id": "3IXvhK3no_uF"
      }
    },
    {
      "cell_type": "markdown",
      "source": [
        "## Calculate intercept b"
      ],
      "metadata": {
        "id": "Mn4qkTVCpF7W"
      }
    },
    {
      "cell_type": "code",
      "source": [
        "b = (sum_y - m * sum_x) / n\n",
        "\n",
        "print(f\"b = [{sum_y} - {m:.2f} × {sum_x}] / {n}\")\n",
        "print(f\"b = [{sum_y - m * sum_x:.2f}] / {n}\")\n",
        "print(f\"b = {b:.2f}\")"
      ],
      "metadata": {
        "colab": {
          "base_uri": "https://localhost:8080/"
        },
        "id": "1gHEL3BppJOf",
        "outputId": "740ee109-7d4f-4df9-bc6b-0ae78291f4bf"
      },
      "execution_count": 7,
      "outputs": [
        {
          "output_type": "stream",
          "name": "stdout",
          "text": [
            "b = [305 - 4.40 × 15] / 5\n",
            "b = [239.00] / 5\n",
            "b = 47.80\n"
          ]
        }
      ]
    },
    {
      "cell_type": "markdown",
      "source": [
        "# 4. Regression Equation"
      ],
      "metadata": {
        "id": "ujnXBl4xpMi6"
      }
    },
    {
      "cell_type": "code",
      "source": [
        "print(f\"Regression Equation: y = {m:.2f}x + {b:.2f}\")"
      ],
      "metadata": {
        "colab": {
          "base_uri": "https://localhost:8080/"
        },
        "id": "SaR9-lVXpShi",
        "outputId": "237e6fed-ed04-4933-fd9c-9962baebd826"
      },
      "execution_count": 8,
      "outputs": [
        {
          "output_type": "stream",
          "name": "stdout",
          "text": [
            "Regression Equation: y = 4.40x + 47.80\n"
          ]
        }
      ]
    },
    {
      "cell_type": "markdown",
      "source": [
        "# 5. Calculate Predicted Values and Create Scatter Plot"
      ],
      "metadata": {
        "id": "pHiiUNp8pVxu"
      }
    },
    {
      "cell_type": "markdown",
      "source": [
        "## Calculate predicted values"
      ],
      "metadata": {
        "id": "WF_se6dxpfWh"
      }
    },
    {
      "cell_type": "code",
      "source": [
        "df['Predicted_Score'] = m * df['Hours_Studied'] + b\n",
        "\n",
        "print(\"Predicted Scores Table:\")\n",
        "print(df[['Student', 'Hours_Studied', 'Exam_Score', 'Predicted_Score']])"
      ],
      "metadata": {
        "colab": {
          "base_uri": "https://localhost:8080/"
        },
        "id": "p-miHgCCpiR5",
        "outputId": "49955e51-6b79-4b38-ed68-d3e5c2a69e9c"
      },
      "execution_count": 9,
      "outputs": [
        {
          "output_type": "stream",
          "name": "stdout",
          "text": [
            "Predicted Scores Table:\n",
            "   Student  Hours_Studied  Exam_Score  Predicted_Score\n",
            "0        1              1          52             52.2\n",
            "1        2              2          57             56.6\n",
            "2        3              3          61             61.0\n",
            "3        4              4          65             65.4\n",
            "4        5              5          70             69.8\n"
          ]
        }
      ]
    },
    {
      "cell_type": "markdown",
      "source": [
        "## Create scatter plot with regression line"
      ],
      "metadata": {
        "id": "lCv5Z6-2poUU"
      }
    },
    {
      "cell_type": "code",
      "source": [
        "plt.figure(figsize=(10, 6))\n",
        "\n",
        "# Scatter plot of actual data\n",
        "plt.scatter(df['Hours_Studied'], df['Exam_Score'],\n",
        "            color='blue', marker='o', s=100, label='Actual Data', zorder=5)\n",
        "\n",
        "# Regression line\n",
        "x_line = np.array([min(df['Hours_Studied']), max(df['Hours_Studied'])])\n",
        "y_line = m * x_line + b\n",
        "plt.plot(x_line, y_line, color='red', linewidth=2, label='Regression Line')\n",
        "\n",
        "# Predicted points\n",
        "plt.scatter(df['Hours_Studied'], df['Predicted_Score'],\n",
        "            color='orange', marker='x', s=100, label='Predicted Values', zorder=5)\n",
        "\n",
        "plt.xlabel('Hours Studied (x)')\n",
        "plt.ylabel('Exam Score (y)')\n",
        "plt.title('Linear Regression: Hours Studied vs Exam Score')\n",
        "plt.legend()\n",
        "plt.grid(True, alpha=0.3)\n",
        "plt.show()"
      ],
      "metadata": {
        "colab": {
          "base_uri": "https://localhost:8080/",
          "height": 564
        },
        "id": "-kzzWVwKpsSC",
        "outputId": "88be1aa2-44ee-438a-8001-1a898e0b869b"
      },
      "execution_count": 11,
      "outputs": [
        {
          "output_type": "display_data",
          "data": {
            "text/plain": [
              "<Figure size 1000x600 with 1 Axes>"
            ],
            "image/png": "[encoded data removed]"
          },
          "metadata": {}
        }
      ]
    },
    {
      "cell_type": "markdown",
      "source": [
        "# 6. Calculate Sum of Squared Erros (SSE)"
      ],
      "metadata": {
        "id": "oJlL6QPkqBof"
      }
    },
    {
      "cell_type": "markdown",
      "source": [
        "## Calculate SSE"
      ],
      "metadata": {
        "id": "8DFGKHZMqUPg"
      }
    },
    {
      "cell_type": "code",
      "source": [
        "df['y_minus_ypredict'] = df['Exam_Score'] - df['Predicted_Score']\n",
        "df['squared_error'] = df['y_minus_ypredict'] ** 2\n",
        "SSE = df['squared_error'].sum()\n",
        "\n",
        "print(\"Sum of Squared Errors Calculation:\")\n",
        "print(df[['Student', 'Hours_Studied', 'Exam_Score', 'Predicted_Score',\n",
        "          'y_minus_ypredict', 'squared_error']])\n",
        "print(f\"\\nSSE = {SSE:.2f}\")"
      ],
      "metadata": {
        "colab": {
          "base_uri": "https://localhost:8080/"
        },
        "id": "IK9ht6PhqXID",
        "outputId": "7bcf0f85-bc5e-44dc-da83-25ef74ba3eec"
      },
      "execution_count": 12,
      "outputs": [
        {
          "output_type": "stream",
          "name": "stdout",
          "text": [
            "Sum of Squared Errors Calculation:\n",
            "   Student  Hours_Studied  Exam_Score  Predicted_Score  y_minus_ypredict  \\\n",
            "0        1              1          52             52.2              -0.2   \n",
            "1        2              2          57             56.6               0.4   \n",
            "2        3              3          61             61.0               0.0   \n",
            "3        4              4          65             65.4              -0.4   \n",
            "4        5              5          70             69.8               0.2   \n",
            "\n",
            "   squared_error  \n",
            "0           0.04  \n",
            "1           0.16  \n",
            "2           0.00  \n",
            "3           0.16  \n",
            "4           0.04  \n",
            "\n",
            "SSE = 0.40\n"
          ]
        }
      ]
    },
    {
      "cell_type": "markdown",
      "source": [
        "# 7. Calculate Sum of Squared Total (SST)"
      ],
      "metadata": {
        "id": "n9tlhEDEqcAV"
      }
    },
    {
      "cell_type": "markdown",
      "source": [
        "## Calculate SST"
      ],
      "metadata": {
        "id": "reOJf0TjqoAd"
      }
    },
    {
      "cell_type": "code",
      "source": [
        "mean_y = df['Exam_Score'].mean()\n",
        "df['y_minus_mean'] = df['Exam_Score'] - mean_y\n",
        "df['squared_deviation'] = df['y_minus_mean'] ** 2\n",
        "SST = df['squared_deviation'].sum()\n",
        "\n",
        "print(f\"Mean (ȳ) = {sum_y} / {n} = {mean_y:.2f}\")\n",
        "print(\"\\nSum of Squared Total Calculation:\")\n",
        "print(df[['Student', 'Hours_Studied', 'Exam_Score', 'y_minus_mean', 'squared_deviation']])\n",
        "print(f\"\\nSST = {SST:.2f}\")"
      ],
      "metadata": {
        "colab": {
          "base_uri": "https://localhost:8080/"
        },
        "id": "vywF1D5CqqXf",
        "outputId": "85d99625-dc51-479a-b712-7b8d22d0f59b"
      },
      "execution_count": 13,
      "outputs": [
        {
          "output_type": "stream",
          "name": "stdout",
          "text": [
            "Mean (ȳ) = 305 / 5 = 61.00\n",
            "\n",
            "Sum of Squared Total Calculation:\n",
            "   Student  Hours_Studied  Exam_Score  y_minus_mean  squared_deviation\n",
            "0        1              1          52          -9.0               81.0\n",
            "1        2              2          57          -4.0               16.0\n",
            "2        3              3          61           0.0                0.0\n",
            "3        4              4          65           4.0               16.0\n",
            "4        5              5          70           9.0               81.0\n",
            "\n",
            "SST = 194.00\n"
          ]
        }
      ]
    },
    {
      "cell_type": "markdown",
      "source": [
        "# Compute R-squared (R²)"
      ],
      "metadata": {
        "id": "Rc-5frtnqtks"
      }
    },
    {
      "cell_type": "markdown",
      "source": [
        "## Calculate R-squared (R²)"
      ],
      "metadata": {
        "id": "MDKoF6Ljq0yS"
      }
    },
    {
      "cell_type": "code",
      "source": [
        "R_squared = 1 - (SSE / SST)\n",
        "\n",
        "print(f\"R² = 1 - (SSE / SST)\")\n",
        "print(f\"R² = 1 - ({SSE:.2f} / {SST:.2f})\")\n",
        "print(f\"R² = 1 - {SSE/SST:.2f}\")\n",
        "print(f\"R² = {R_squared:.2f}\")\n",
        "\n",
        "# Interpretation\n",
        "print(f\"\\nInterpretation: {R_squared:.1%} of the variance in exam scores is explained by hours studied.\")"
      ],
      "metadata": {
        "colab": {
          "base_uri": "https://localhost:8080/"
        },
        "id": "uD_fGFSlq7oQ",
        "outputId": "d00b613c-275d-4545-eb6b-a58cd6ffdeef"
      },
      "execution_count": 14,
      "outputs": [
        {
          "output_type": "stream",
          "name": "stdout",
          "text": [
            "R² = 1 - (SSE / SST)\n",
            "R² = 1 - (0.40 / 194.00)\n",
            "R² = 1 - 0.00\n",
            "R² = 1.00\n",
            "\n",
            "Interpretation: 99.8% of the variance in exam scores is explained by hours studied.\n"
          ]
        }
      ]
    },
    {
      "cell_type": "markdown",
      "source": [
        "# Prediction for 6 Hours Studied"
      ],
      "metadata": {
        "id": "yDokZB6rrEAq"
      }
    },
    {
      "cell_type": "markdown",
      "source": [
        "## Predict for 6 hours"
      ],
      "metadata": {
        "id": "rxg3kqKLrI-X"
      }
    },
    {
      "cell_type": "code",
      "source": [
        "hours_6 = 6\n",
        "predicted_score_6 = m * hours_6 + b\n",
        "\n",
        "print(f\"Prediction for 6 hours studied:\")\n",
        "print(f\"y = {m:.2f} × {hours_6} + {b:.2f}\")\n",
        "print(f\"y = {predicted_score_6:.2f}\")"
      ],
      "metadata": {
        "colab": {
          "base_uri": "https://localhost:8080/"
        },
        "id": "oavd1xS6rLm0",
        "outputId": "cfeb4232-6751-4820-b8ac-2481a36c6f69"
      },
      "execution_count": 15,
      "outputs": [
        {
          "output_type": "stream",
          "name": "stdout",
          "text": [
            "Prediction for 6 hours studied:\n",
            "y = 4.40 × 6 + 47.80\n",
            "y = 74.20\n"
          ]
        }
      ]
    },
    {
      "cell_type": "markdown",
      "source": [
        "# Summary of Results"
      ],
      "metadata": {
        "id": "3zIv9hU4rOwz"
      }
    },
    {
      "cell_type": "code",
      "source": [
        "print(\"=\" * 50)\n",
        "print(\"SUMMARY OF LINEAR REGRESSION ANALYSIS\")\n",
        "print(\"=\" * 50)\n",
        "print(f\"Regression Equation: y = {m:.2f}x + {b:.2f}\")\n",
        "print(f\"Slope (m): {m:.2f}\")\n",
        "print(f\"Intercept (b): {b:.2f}\")\n",
        "print(f\"Sum of Squared Errors (SSE): {SSE:.2f}\")\n",
        "print(f\"Sum of Squared Total (SST): {SST:.2f}\")\n",
        "print(f\"R-squared (R²): {R_squared:.2f}\")\n",
        "print(f\"Predicted score for 6 hours: {predicted_score_6:.2f}\")\n",
        "print(\"=\" * 50)"
      ],
      "metadata": {
        "colab": {
          "base_uri": "https://localhost:8080/"
        },
        "id": "UtdbDki4rQkr",
        "outputId": "175eb564-3569-472c-f226-a25b45574501"
      },
      "execution_count": 16,
      "outputs": [
        {
          "output_type": "stream",
          "name": "stdout",
          "text": [
            "==================================================\n",
            "SUMMARY OF LINEAR REGRESSION ANALYSIS\n",
            "==================================================\n",
            "Regression Equation: y = 4.40x + 47.80\n",
            "Slope (m): 4.40\n",
            "Intercept (b): 47.80\n",
            "Sum of Squared Errors (SSE): 0.40\n",
            "Sum of Squared Total (SST): 194.00\n",
            "R-squared (R²): 1.00\n",
            "Predicted score for 6 hours: 74.20\n",
            "==================================================\n"
          ]
        }
      ]
    },
    {
      "cell_type": "markdown",
      "source": [
        "# Create final results table"
      ],
      "metadata": {
        "id": "OtGxSx90rVWV"
      }
    },
    {
      "cell_type": "code",
      "source": [
        "results_summary = pd.DataFrame({\n",
        "    'Metric': ['Σx', 'Σy', 'Σx²', 'Σxy', 'n', 'Slope (m)', 'Intercept (b)', 'SSE', 'SST', 'R²', 'Prediction (6 hours)'],\n",
        "    'Value': [sum_x, sum_y, sum_x_squared, sum_x_y, n, f\"{m:.2f}\", f\"{b:.2f}\",\n",
        "              f\"{SSE:.2f}\", f\"{SST:.2f}\", f\"{R_squared:.2f}\", f\"{predicted_score_6:.2f}\"]\n",
        "})\n",
        "\n",
        "print(\"\\nFinal Results Table:\")\n",
        "print(results_summary.to_string(index=False))"
      ],
      "metadata": {
        "colab": {
          "base_uri": "https://localhost:8080/"
        },
        "id": "4JKBt462rYXI",
        "outputId": "9c011f53-c3a1-4c81-cb96-a13da4003bca"
      },
      "execution_count": 17,
      "outputs": [
        {
          "output_type": "stream",
          "name": "stdout",
          "text": [
            "\n",
            "Final Results Table:\n",
            "              Metric  Value\n",
            "                  Σx     15\n",
            "                  Σy    305\n",
            "                 Σx²     55\n",
            "                 Σxy    959\n",
            "                   n      5\n",
            "           Slope (m)   4.40\n",
            "       Intercept (b)  47.80\n",
            "                 SSE   0.40\n",
            "                 SST 194.00\n",
            "                  R²   1.00\n",
            "Prediction (6 hours)  74.20\n"
          ]
        }
      ]
    }
  ]
}