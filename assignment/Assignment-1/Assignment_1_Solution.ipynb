{
  "nbformat": 4,
  "nbformat_minor": 0,
  "metadata": {
    "colab": {
      "provenance": []
    },
    "kernelspec": {
      "name": "python3",
      "display_name": "Python 3"
    },
    "language_info": {
      "name": "python"
    }
  },
  "cells": [
    {
      "cell_type": "markdown",
      "source": [
        "# 📓 Assignment 1: k-Nearest Neighbors (k-NN) Prediction"
      ],
      "metadata": {
        "id": "HoiAbDNcZu97"
      }
    },
    {
      "cell_type": "markdown",
      "source": [
        "## Problem Statement\n",
        "Using k-Nearest Neighbours, predict if a student will **Pass (1)** or **Fail (0)** based on:\n",
        "- $X_1$ = Hours Studied\n",
        "- $X_2$ = Sleep Hours\n",
        "\n",
        "A new student studied **4 hours** and slept **6 hours**. We want to predict whether they **Pass** or **Fail** using **KNN with k = 3**."
      ],
      "metadata": {
        "id": "w5yisFSCaDio"
      }
    },
    {
      "cell_type": "markdown",
      "source": [
        "## Import Library"
      ],
      "metadata": {
        "id": "9XaVIJaEaIai"
      }
    },
    {
      "cell_type": "code",
      "execution_count": 2,
      "metadata": {
        "colab": {
          "base_uri": "https://localhost:8080/"
        },
        "id": "HRKOrX3ZZU-s",
        "outputId": "9466059c-6ae9-4831-e2b8-5c95fc29d85e"
      },
      "outputs": [
        {
          "output_type": "stream",
          "name": "stdout",
          "text": [
            "✅ Libraries imported successfully!\n"
          ]
        }
      ],
      "source": [
        "import numpy as np\n",
        "import matplotlib.pyplot as plt\n",
        "import pandas as pd\n",
        "from math import sqrt\n",
        "\n",
        "print(\"✅ Libraries imported successfully!\")"
      ]
    },
    {
      "cell_type": "markdown",
      "source": [
        "## Set up the training data"
      ],
      "metadata": {
        "id": "DnUXY53HadtZ"
      }
    },
    {
      "cell_type": "code",
      "source": [
        "data = {\n",
        "    'Student': [1, 2, 3, 4, 5, 6, 7, 8, 9, 10],\n",
        "    'Hours_Studied': [1.0, 2.0, 3.0, 4.5, 5.0, 5.5, 6.0, 7.0, 8.0, 9.0],\n",
        "    'Sleep_Hours': [5.0, 5.5, 6.0, 5.0, 6.5, 7.0, 6.0, 7.0, 6.0, 7.5],\n",
        "    'Pass_Fail': [0, 0, 0, 0, 1, 1, 1, 1, 1, 1]\n",
        "}\n",
        "\n",
        "df = pd.DataFrame(data)\n",
        "\n",
        "print(\"✅ Training data imported successfully!\")"
      ],
      "metadata": {
        "colab": {
          "base_uri": "https://localhost:8080/"
        },
        "id": "0e-ohtNDahco",
        "outputId": "35f6088d-8800-4dc2-9707-1ced475957b8"
      },
      "execution_count": 4,
      "outputs": [
        {
          "output_type": "stream",
          "name": "stdout",
          "text": [
            "✅ Training data imported successfully!\n"
          ]
        }
      ]
    },
    {
      "cell_type": "markdown",
      "source": [
        "## New Student data"
      ],
      "metadata": {
        "id": "qzYfLmMcavLG"
      }
    },
    {
      "cell_type": "code",
      "source": [
        "new_student = [4.0, 6.0]  # [Hours_Studied, Sleep_Hours]\n",
        "\n",
        "print(\"Training Data:\")\n",
        "print(df)"
      ],
      "metadata": {
        "colab": {
          "base_uri": "https://localhost:8080/"
        },
        "id": "PSPc_4K2axZ2",
        "outputId": "13d81504-f3bf-417b-bb28-5accdf09e769"
      },
      "execution_count": 5,
      "outputs": [
        {
          "output_type": "stream",
          "name": "stdout",
          "text": [
            "Training Data:\n",
            "   Student  Hours_Studied  Sleep_Hours  Pass_Fail\n",
            "0        1            1.0          5.0          0\n",
            "1        2            2.0          5.5          0\n",
            "2        3            3.0          6.0          0\n",
            "3        4            4.5          5.0          0\n",
            "4        5            5.0          6.5          1\n",
            "5        6            5.5          7.0          1\n",
            "6        7            6.0          6.0          1\n",
            "7        8            7.0          7.0          1\n",
            "8        9            8.0          6.0          1\n",
            "9       10            9.0          7.5          1\n"
          ]
        }
      ]
    },
    {
      "cell_type": "markdown",
      "source": [
        "# 1. Plot all data points using a scatter plot"
      ],
      "metadata": {
        "id": "qjc5a5NSa2j_"
      }
    },
    {
      "cell_type": "markdown",
      "source": [
        "## Create the scatter plot"
      ],
      "metadata": {
        "id": "j0d8v-RGa8Uf"
      }
    },
    {
      "cell_type": "code",
      "source": [
        "plt.figure(figsize=(10, 8))\n",
        "\n",
        "# Plot failed students (0) - circles\n",
        "failed = df[df['Pass_Fail'] == 0]\n",
        "plt.scatter(failed['Hours_Studied'], failed['Sleep_Hours'],\n",
        "           marker='o', s=100, c='blue', label='Fail (0)', alpha=0.7)\n",
        "\n",
        "# Plot passed students (1) - squares\n",
        "passed = df[df['Pass_Fail'] == 1]\n",
        "plt.scatter(passed['Hours_Studied'], passed['Sleep_Hours'],\n",
        "           marker='s', s=100, c='red', label='Pass (1)', alpha=0.7)\n",
        "\n",
        "# Plot the new student - star\n",
        "plt.scatter(new_student[0], new_student[1],\n",
        "           marker='*', s=200, c='purple', label='New Student', alpha=0.9)\n",
        "\n",
        "plt.xlabel('Hours Studied (X1)')\n",
        "plt.ylabel('Sleep Hours (X2)')\n",
        "plt.title('Student Performance: Pass/Fail Prediction using k-NN')\n",
        "plt.grid(True, alpha=0.3)\n",
        "plt.legend()\n",
        "plt.show()"
      ],
      "metadata": {
        "colab": {
          "base_uri": "https://localhost:8080/",
          "height": 638
        },
        "id": "ChIbilgba_-c",
        "outputId": "b3451f2d-da76-4276-ec80-b079d5088be9"
      },
      "execution_count": 6,
      "outputs": [
        {
          "output_type": "display_data",
          "data": {
            "text/plain": [
              "<Figure size 1000x800 with 1 Axes>"
            ],
            "image/png": "[encoded data removed]"
          },
          "metadata": {}
        }
      ]
    },
    {
      "cell_type": "markdown",
      "source": [
        "# 2. Compute Euclidean Distances\n",
        "\n",
        "We compute the Euclidean distance using the formula:\n",
        "$$d = \\sqrt{(X_1 - 4)^2 + (X_2 - 6)^2}$$"
      ],
      "metadata": {
        "id": "rL6uGnmcbHra"
      }
    },
    {
      "cell_type": "markdown",
      "source": [
        "## Calculate Euclidean distances"
      ],
      "metadata": {
        "id": "ZtZWR3aybNwc"
      }
    },
    {
      "cell_type": "code",
      "source": [
        "def euclidean_distance(point1, point2):\n",
        "    return sqrt((point1[0] - point2[0])**2 + (point1[1] - point2[1])**2)"
      ],
      "metadata": {
        "id": "SlLOtSeKbTef"
      },
      "execution_count": 7,
      "outputs": []
    },
    {
      "cell_type": "markdown",
      "source": [
        "## Add distances to dataframe"
      ],
      "metadata": {
        "id": "IioECR63bas-"
      }
    },
    {
      "cell_type": "code",
      "source": [
        "# Solution for distances to dataframe\n",
        "distances = []\n",
        "for i in range(len(df)):\n",
        "    student_point = [df.iloc[i]['Hours_Studied'], df.iloc[i]['Sleep_Hours']]\n",
        "    dist = euclidean_distance(student_point, new_student)\n",
        "    distances.append(dist)\n",
        "\n",
        "df['Euclidean_Distance'] = distances\n",
        "\n",
        "print(\"Data with Euclidean Distances:\")\n",
        "print(df.round(3))"
      ],
      "metadata": {
        "colab": {
          "base_uri": "https://localhost:8080/"
        },
        "id": "3EQxT3aVbfAR",
        "outputId": "3e66fd31-398a-4154-b2c1-22412eb2c6b8"
      },
      "execution_count": 8,
      "outputs": [
        {
          "output_type": "stream",
          "name": "stdout",
          "text": [
            "Data with Euclidean Distances:\n",
            "   Student  Hours_Studied  Sleep_Hours  Pass_Fail  Euclidean_Distance\n",
            "0        1            1.0          5.0          0               3.162\n",
            "1        2            2.0          5.5          0               2.062\n",
            "2        3            3.0          6.0          0               1.000\n",
            "3        4            4.5          5.0          0               1.118\n",
            "4        5            5.0          6.5          1               1.118\n",
            "5        6            5.5          7.0          1               1.803\n",
            "6        7            6.0          6.0          1               2.000\n",
            "7        8            7.0          7.0          1               3.162\n",
            "8        9            8.0          6.0          1               4.000\n",
            "9       10            9.0          7.5          1               5.220\n"
          ]
        }
      ]
    },
    {
      "cell_type": "markdown",
      "source": [
        "# 3. Find the 3 Nearest Neighbors"
      ],
      "metadata": {
        "id": "fb6-v-1PboBT"
      }
    },
    {
      "cell_type": "markdown",
      "source": [
        "## Sort by distance and get 3 nearest neighbors"
      ],
      "metadata": {
        "id": "tnfhJZSlbuKE"
      }
    },
    {
      "cell_type": "code",
      "source": [
        "nearest_neighbors = df.nsmallest(3, 'Euclidean_Distance')\n",
        "\n",
        "print(\"3 Nearest Neighbors:\")\n",
        "print(nearest_neighbors.round(3))"
      ],
      "metadata": {
        "colab": {
          "base_uri": "https://localhost:8080/"
        },
        "id": "nbie9DSWb0cj",
        "outputId": "d38c7f6d-d73b-4a5f-c886-767efe723f26"
      },
      "execution_count": 9,
      "outputs": [
        {
          "output_type": "stream",
          "name": "stdout",
          "text": [
            "3 Nearest Neighbors:\n",
            "   Student  Hours_Studied  Sleep_Hours  Pass_Fail  Euclidean_Distance\n",
            "2        3            3.0          6.0          0               1.000\n",
            "3        4            4.5          5.0          0               1.118\n",
            "4        5            5.0          6.5          1               1.118\n"
          ]
        }
      ]
    },
    {
      "cell_type": "markdown",
      "source": [
        "# 4. Majority Vote and Prediction"
      ],
      "metadata": {
        "id": "kJ5wpsYAcItZ"
      }
    },
    {
      "cell_type": "code",
      "source": [
        "# Count the votes\n",
        "pass_count = nearest_neighbors[nearest_neighbors['Pass_Fail'] == 1].shape[0]\n",
        "fail_count = nearest_neighbors[nearest_neighbors['Pass_Fail'] == 0].shape[0]\n",
        "\n",
        "print(f\"Votes among 3 nearest neighbors:\")\n",
        "print(f\"Pass (1): {pass_count}\")\n",
        "print(f\"Fail (0): {fail_count}\")\n",
        "\n",
        "# Make prediction\n",
        "if pass_count > fail_count:\n",
        "    prediction = \"PASS (1)\"\n",
        "else:\n",
        "    prediction = \"FAIL (0)\"\n",
        "\n",
        "print(f\"\\nPrediction: A new student who studied 4 hours and slept 6 hours will {prediction} the exam.\")"
      ],
      "metadata": {
        "colab": {
          "base_uri": "https://localhost:8080/"
        },
        "id": "F8KifJ6YcMmr",
        "outputId": "4d0bfbd8-7e10-41c1-dc64-a1db08e73f92"
      },
      "execution_count": 10,
      "outputs": [
        {
          "output_type": "stream",
          "name": "stdout",
          "text": [
            "Votes among 3 nearest neighbors:\n",
            "Pass (1): 1\n",
            "Fail (0): 2\n",
            "\n",
            "Prediction: A new student who studied 4 hours and slept 6 hours will FAIL (0) the exam.\n"
          ]
        }
      ]
    },
    {
      "cell_type": "markdown",
      "source": [
        "# 5. Additional Analysis: What if k = 5?"
      ],
      "metadata": {
        "id": "-jlAJB3HcTwd"
      }
    },
    {
      "cell_type": "code",
      "source": [
        "# Find 5 nearest neighbors\n",
        "nearest_neighbors_k5 = df.nsmallest(5, 'Euclidean_Distance')\n",
        "\n",
        "# Count the votes for k=5\n",
        "pass_count_k5 = nearest_neighbors_k5[nearest_neighbors_k5['Pass_Fail'] == 1].shape[0]\n",
        "fail_count_k5 = nearest_neighbors_k5[nearest_neighbors_k5['Pass_Fail'] == 0].shape[0]\n",
        "\n",
        "print(\"5 Nearest Neighbors:\")\n",
        "print(nearest_neighbors_k5.round(3))\n",
        "\n",
        "print(f\"\\nVotes among 5 nearest neighbors:\")\n",
        "print(f\"Pass (1): {pass_count_k5}\")\n",
        "print(f\"Fail (0): {fail_count_k5}\")\n",
        "\n",
        "# Make prediction for k=5\n",
        "if pass_count_k5 > fail_count_k5:\n",
        "    prediction_k5 = \"PASS (1)\"\n",
        "else:\n",
        "    prediction_k5 = \"FAIL (0)\"\n",
        "\n",
        "print(f\"\\nPrediction with k=5: A new student who studied 4 hours and slept 6 hours will {prediction_k5} the exam.\")"
      ],
      "metadata": {
        "colab": {
          "base_uri": "https://localhost:8080/"
        },
        "id": "oGfOR-7ccwMa",
        "outputId": "5c485225-e64a-442f-c4a7-1b57c1c25f96"
      },
      "execution_count": 11,
      "outputs": [
        {
          "output_type": "stream",
          "name": "stdout",
          "text": [
            "5 Nearest Neighbors:\n",
            "   Student  Hours_Studied  Sleep_Hours  Pass_Fail  Euclidean_Distance\n",
            "2        3            3.0          6.0          0               1.000\n",
            "3        4            4.5          5.0          0               1.118\n",
            "4        5            5.0          6.5          1               1.118\n",
            "5        6            5.5          7.0          1               1.803\n",
            "6        7            6.0          6.0          1               2.000\n",
            "\n",
            "Votes among 5 nearest neighbors:\n",
            "Pass (1): 3\n",
            "Fail (0): 2\n",
            "\n",
            "Prediction with k=5: A new student who studied 4 hours and slept 6 hours will PASS (1) the exam.\n"
          ]
        }
      ]
    },
    {
      "cell_type": "markdown",
      "source": [
        "# Complete Results Table"
      ],
      "metadata": {
        "id": "mJpY3d6Pc1Mr"
      }
    },
    {
      "cell_type": "code",
      "source": [
        "print(\"COMPLETE RESULTS TABLE:\")\n",
        "print(\"=\" * 85)\n",
        "print(f\"{'Student':<8} {'Hours Studied':<15} {'Sleep Hours':<13} {'Pass/Fail':<10} {'Euclidean Distance':<18}\")\n",
        "print(\"-\" * 85)\n",
        "\n",
        "for i in range(len(df)):\n",
        "    student = df.iloc[i]\n",
        "    is_nearest = \"★\" if student.name in nearest_neighbors.index else \" \"\n",
        "    print(f\"{student['Student']:<8} {student['Hours_Studied']:<15} {student['Sleep_Hours']:<13} {student['Pass_Fail']:<10} {student['Euclidean_Distance']:<18.3f} {is_nearest}\")\n",
        "\n",
        "print(\"-\" * 85)\n",
        "print(f\"★ = One of the 3 nearest neighbors\")"
      ],
      "metadata": {
        "colab": {
          "base_uri": "https://localhost:8080/"
        },
        "id": "fTcmPXXVc8zU",
        "outputId": "fc33ae3e-fd6f-4b94-cc80-6103fc2d0dd8"
      },
      "execution_count": 12,
      "outputs": [
        {
          "output_type": "stream",
          "name": "stdout",
          "text": [
            "COMPLETE RESULTS TABLE:\n",
            "=====================================================================================\n",
            "Student  Hours Studied   Sleep Hours   Pass/Fail  Euclidean Distance\n",
            "-------------------------------------------------------------------------------------\n",
            "1.0      1.0             5.0           0.0        3.162               \n",
            "2.0      2.0             5.5           0.0        2.062               \n",
            "3.0      3.0             6.0           0.0        1.000              ★\n",
            "4.0      4.5             5.0           0.0        1.118              ★\n",
            "5.0      5.0             6.5           1.0        1.118              ★\n",
            "6.0      5.5             7.0           1.0        1.803               \n",
            "7.0      6.0             6.0           1.0        2.000               \n",
            "8.0      7.0             7.0           1.0        3.162               \n",
            "9.0      8.0             6.0           1.0        4.000               \n",
            "10.0     9.0             7.5           1.0        5.220               \n",
            "-------------------------------------------------------------------------------------\n",
            "★ = One of the 3 nearest neighbors\n"
          ]
        }
      ]
    },
    {
      "cell_type": "markdown",
      "source": [
        "# Discussion Questions\n",
        "\n",
        "**1. What was your final prediction?**\n",
        "\n",
        "Based on k-NN with k=3, the prediction is that the new student will **FAIL (0)** the exam.\n",
        "\n",
        "**2. How would the prediction change if we used k = 5 instead of k = 3?**\n",
        "\n",
        "With k=5, the prediction changes to **PASS (1)**. This demonstrates how the choice of k can significantly impact the prediction in k-NN algorithm."
      ],
      "metadata": {
        "id": "4S5Z1D59dMjY"
      }
    },
    {
      "cell_type": "markdown",
      "source": [
        "## Summary\n",
        "\n",
        "This implementation follows the k-NN algorithm as demonstrated in the reference PDF:\n",
        "1. Calculate Euclidean distances between the new point and all training points\n",
        "2. Select k nearest neighbors\n",
        "3. Use majority voting for classification\n",
        "4. The choice of k parameter affects the prediction outcome"
      ],
      "metadata": {
        "id": "M9Z3uA2ddTsz"
      }
    },
    {
      "cell_type": "markdown",
      "source": [
        "# Final verification"
      ],
      "metadata": {
        "id": "LhFoPL1vdaCl"
      }
    },
    {
      "cell_type": "code",
      "source": [
        "print(\"\\n\" + \"=\"*50)\n",
        "print(\"FINAL VERIFICATION\")\n",
        "print(\"=\"*50)\n",
        "\n",
        "print(f\"New Student: Hours Studied = {new_student[0]}, Sleep Hours = {new_student[1]}\")\n",
        "print(f\"3 Nearest Neighbors: Students {list(nearest_neighbors['Student'].values)}\")\n",
        "print(f\"Majority Vote: {pass_count} Pass vs {fail_count} Fail\")\n",
        "print(f\"Prediction with k=3: {prediction}\")\n",
        "print(f\"Prediction with k=5: {prediction_k5}\")"
      ],
      "metadata": {
        "colab": {
          "base_uri": "https://localhost:8080/"
        },
        "id": "jl0KJDOxdVQB",
        "outputId": "6ed97a85-21ac-48b6-ceb8-500214f33061"
      },
      "execution_count": 13,
      "outputs": [
        {
          "output_type": "stream",
          "name": "stdout",
          "text": [
            "\n",
            "==================================================\n",
            "FINAL VERIFICATION\n",
            "==================================================\n",
            "New Student: Hours Studied = 4.0, Sleep Hours = 6.0\n",
            "3 Nearest Neighbors: Students [np.int64(3), np.int64(4), np.int64(5)]\n",
            "Majority Vote: 1 Pass vs 2 Fail\n",
            "Prediction with k=3: FAIL (0)\n",
            "Prediction with k=5: PASS (1)\n"
          ]
        }
      ]
    }
  ]
}